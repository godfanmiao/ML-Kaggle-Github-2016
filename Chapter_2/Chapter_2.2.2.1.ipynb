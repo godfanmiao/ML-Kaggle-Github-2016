{
 "cells": [
  {
   "cell_type": "code",
   "execution_count": 1,
   "metadata": {
    "collapsed": false
   },
   "outputs": [
    {
     "data": {
      "text/plain": [
       "1"
      ]
     },
     "execution_count": 1,
     "metadata": {},
     "output_type": "execute_result"
    }
   ],
   "source": [
    "# 导入numpy工具包。\n",
    "import numpy as np\n",
    "# 初始化一个2*2的线性相关矩阵。\n",
    "M = np.array([[1, 2], [2, 4]])\n",
    "# 计算2*2线性相关矩阵的秩。\n",
    "np.linalg.matrix_rank(M, tol=None)\n"
   ]
  },
  {
   "cell_type": "code",
   "execution_count": 2,
   "metadata": {
    "collapsed": true
   },
   "outputs": [],
   "source": [
    "# 导入pandas用于数据读取和处理。\n",
    "import pandas as pd\n",
    "\n",
    "# 从互联网读入手写体图片识别任务的训练数据，存储在变量digits_train中。\n",
    "digits_train = pd.read_csv('https://archive.ics.uci.edu/ml/machine-learning-databases/optdigits/optdigits.tra', header=None)\n",
    "\n",
    "# 从互联网读入手写体图片识别任务的测试数据，存储在变量digits_test中。\n",
    "digits_test = pd.read_csv('https://archive.ics.uci.edu/ml/machine-learning-databases/optdigits/optdigits.tes', header=None)\n",
    "\n",
    "# 分割训练数据的特征向量和标记。\n",
    "X_digits = digits_train[np.arange(64)]\n",
    "y_digits = digits_train[64]\n",
    "\n",
    "# 从sklearn.decomposition导入PCA。 \n",
    "from sklearn.decomposition import PCA\n",
    "\n",
    "# 初始化一个可以将高维度特征向量（64维）压缩至2个维度的PCA。 \n",
    "estimator = PCA(n_components=2)\n",
    "X_pca = estimator.fit_transform(X_digits)\n",
    "\n",
    "# 显示10类手写体数字图片经PCA压缩后的2维空间分布。 \n",
    "from matplotlib import pyplot as plt\n",
    "\n",
    "def plot_pca_scatter():\n",
    "    colors = ['black', 'blue', 'purple', 'yellow', 'white', 'red', 'lime', 'cyan', 'orange', 'gray']\n",
    "    for i in xrange(len(colors)):\n",
    "        px = X_pca[:, 0][y_digits.as_matrix() == i]\n",
    "        py = X_pca[:, 1][y_digits.as_matrix()== i]\n",
    "        plt.scatter(px, py, c=colors[i])\n",
    "    \n",
    "    plt.legend(np.arange(0,10).astype(str))\n",
    "    plt.xlabel('First Principal Component')\n",
    "    plt.ylabel('Second Principal Component')\n",
    "    plt.show()\n",
    "    \n",
    "plot_pca_scatter()\n"
   ]
  },
  {
   "cell_type": "code",
   "execution_count": 3,
   "metadata": {
    "collapsed": false
   },
   "outputs": [],
   "source": [
    "# 对训练数据、测试数据进行特征向量（图片像素）与分类目标的分隔。\n",
    "X_train = digits_train[np.arange(64)]\n",
    "y_train = digits_train[64]\n",
    "X_test = digits_test[np.arange(64)]\n",
    "y_test = digits_test[64]\n",
    "\n",
    "# 导入基于线性核的支持向量机分类器。\n",
    "from sklearn.svm import LinearSVC\n",
    "\n",
    "# 使用默认配置初始化LinearSVC，对原始64维像素特征的训练数据进行建模，并在测试数据上做出预测，存储在y_predict中。\n",
    "svc = LinearSVC()\n",
    "svc.fit(X_train, y_train)\n",
    "y_predict = svc.predict(X_test)\n",
    "\n",
    "# 使用PCA将原64维的图像数据压缩到20个维度。\n",
    "estimator = PCA(n_components=20)\n",
    "\n",
    "# 利用训练特征决定（fit）20个正交维度的方向，并转化（transform）原训练特征。\n",
    "pca_X_train = estimator.fit_transform(X_train)\n",
    "# 测试特征也按照上述的20个正交维度方向进行转化（transform）。\n",
    "pca_X_test = estimator.transform(X_test)\n",
    "\n",
    "# 使用默认配置初始化LinearSVC，对压缩过后的20维特征的训练数据进行建模，并在测试数据上做出预测，存储在pca_y_predict中。\n",
    "pca_svc = LinearSVC()\n",
    "pca_svc.fit(pca_X_train, y_train)\n",
    "pca_y_predict = pca_svc.predict(pca_X_test)\n"
   ]
  },
  {
   "cell_type": "code",
   "execution_count": 4,
   "metadata": {
    "collapsed": false
   },
   "outputs": [
    {
     "name": "stdout",
     "output_type": "stream",
     "text": [
      "0.930996104619\n",
      "             precision    recall  f1-score   support\n",
      "\n",
      "          0       0.99      0.98      0.99       178\n",
      "          1       0.94      0.84      0.89       182\n",
      "          2       0.99      0.97      0.98       177\n",
      "          3       0.97      0.92      0.94       183\n",
      "          4       0.95      0.97      0.96       181\n",
      "          5       0.89      0.96      0.93       182\n",
      "          6       0.99      0.98      0.99       181\n",
      "          7       0.98      0.90      0.94       179\n",
      "          8       0.78      0.91      0.84       174\n",
      "          9       0.86      0.89      0.87       180\n",
      "\n",
      "avg / total       0.93      0.93      0.93      1797\n",
      "\n",
      "0.909293266555\n",
      "             precision    recall  f1-score   support\n",
      "\n",
      "          0       0.96      0.96      0.96       178\n",
      "          1       0.78      0.85      0.82       182\n",
      "          2       0.96      0.98      0.97       177\n",
      "          3       0.99      0.89      0.94       183\n",
      "          4       0.95      0.92      0.93       181\n",
      "          5       0.84      0.97      0.90       182\n",
      "          6       0.96      0.97      0.96       181\n",
      "          7       0.93      0.92      0.93       179\n",
      "          8       0.83      0.83      0.83       174\n",
      "          9       0.92      0.82      0.86       180\n",
      "\n",
      "avg / total       0.91      0.91      0.91      1797\n",
      "\n"
     ]
    }
   ],
   "source": [
    "# 从sklearn.metrics导入classification_report用于更加细致的分类性能分析。\n",
    "from sklearn.metrics import classification_report\n",
    "\n",
    "# 对使用原始图像高维像素特征训练的支持向量机分类器的性能作出评估。\n",
    "print svc.score(X_test, y_test)\n",
    "print classification_report(y_test, y_predict, target_names=np.arange(10).astype(str))\n",
    "\n",
    "# 对使用PCA压缩重建的低维图像特征训练的支持向量机分类器的性能作出评估。\n",
    "print pca_svc.score(pca_X_test, y_test)\n",
    "print classification_report(y_test, pca_y_predict, target_names=np.arange(10).astype(str))\n"
   ]
  },
  {
   "cell_type": "code",
   "execution_count": null,
   "metadata": {
    "collapsed": true
   },
   "outputs": [],
   "source": []
  }
 ],
 "metadata": {
  "kernelspec": {
   "display_name": "Python 2",
   "language": "python",
   "name": "python2"
  },
  "language_info": {
   "codemirror_mode": {
    "name": "ipython",
    "version": 2
   },
   "file_extension": ".py",
   "mimetype": "text/x-python",
   "name": "python",
   "nbconvert_exporter": "python",
   "pygments_lexer": "ipython2",
   "version": "2.7.11"
  }
 },
 "nbformat": 4,
 "nbformat_minor": 0
}
