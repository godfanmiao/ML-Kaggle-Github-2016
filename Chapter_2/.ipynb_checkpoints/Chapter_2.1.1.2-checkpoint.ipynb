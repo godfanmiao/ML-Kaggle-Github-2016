{
 "cells": [
  {
   "cell_type": "code",
   "execution_count": 1,
   "metadata": {
    "collapsed": false
   },
   "outputs": [
    {
     "data": {
      "text/plain": [
       "(1797L, 64L)"
      ]
     },
     "execution_count": 1,
     "metadata": {},
     "output_type": "execute_result"
    }
   ],
   "source": [
    "# 从sklearn.datasets里导入手写体数字加载器。\n",
    "from sklearn.datasets import load_digits\n",
    "# 从通过数据加载器获得手写体数字的数码图像数据并储存在digits变量中。\n",
    "digits = load_digits()\n",
    "# 检视数据规模和特征维度。\n",
    "digits.data.shape\n"
   ]
  },
  {
   "cell_type": "code",
   "execution_count": 2,
   "metadata": {
    "collapsed": true
   },
   "outputs": [],
   "source": [
    "# 从sklearn.cross_validation中导入train_test_split用于数据分割。\n",
    "from sklearn.cross_validation import train_test_split\n",
    "\n",
    "# 随机选取75%的数据作为训练样本；其余25%的数据作为测试样本。\n",
    "X_train, X_test, y_train, y_test = train_test_split(digits.data, digits.target, test_size=0.25, random_state=33)\n"
   ]
  },
  {
   "cell_type": "code",
   "execution_count": 3,
   "metadata": {
    "collapsed": false
   },
   "outputs": [
    {
     "data": {
      "text/plain": [
       "(1347L,)"
      ]
     },
     "execution_count": 3,
     "metadata": {},
     "output_type": "execute_result"
    }
   ],
   "source": [
    "y_train.shape"
   ]
  },
  {
   "cell_type": "code",
   "execution_count": 4,
   "metadata": {
    "collapsed": false
   },
   "outputs": [
    {
     "data": {
      "text/plain": [
       "(450L,)"
      ]
     },
     "execution_count": 4,
     "metadata": {},
     "output_type": "execute_result"
    }
   ],
   "source": [
    "y_test.shape"
   ]
  },
  {
   "cell_type": "code",
   "execution_count": 5,
   "metadata": {
    "collapsed": true
   },
   "outputs": [],
   "source": [
    "# 从sklearn.preprocessing里导入数据标准化模块。\n",
    "from sklearn.preprocessing import StandardScaler\n",
    "\n",
    "# 从sklearn.svm里导入基于线性假设的支持向量机分类器LinearSVC。\n",
    "from sklearn.svm import LinearSVC\n",
    "\n",
    "# 从仍然需要对训练和测试的特征数据进行标准化。\n",
    "ss = StandardScaler()\n",
    "X_train = ss.fit_transform(X_train)\n",
    "X_test = ss.transform(X_test)\n",
    "\n",
    "# 初始化线性假设的支持向量机分类器LinearSVC。\n",
    "lsvc = LinearSVC()\n",
    "#进行模型训练\n",
    "lsvc.fit(X_train, y_train)\n",
    "# 利用训练好的模型对测试样本的数字类别进行预测，预测结果储存在变量y_predict中。\n",
    "y_predict = lsvc.predict(X_test)\n"
   ]
  },
  {
   "cell_type": "code",
   "execution_count": 6,
   "metadata": {
    "collapsed": false
   },
   "outputs": [
    {
     "name": "stdout",
     "output_type": "stream",
     "text": [
      "The Accuracy of Linear SVC is 0.953333333333\n"
     ]
    }
   ],
   "source": [
    "# 使用模型自带的评估函数进行准确性测评。\n",
    "print 'The Accuracy of Linear SVC is', lsvc.score(X_test, y_test)\n"
   ]
  },
  {
   "cell_type": "code",
   "execution_count": 7,
   "metadata": {
    "collapsed": false
   },
   "outputs": [
    {
     "name": "stdout",
     "output_type": "stream",
     "text": [
      "             precision    recall  f1-score   support\n",
      "\n",
      "          0       0.92      1.00      0.96        35\n",
      "          1       0.96      0.98      0.97        54\n",
      "          2       0.98      1.00      0.99        44\n",
      "          3       0.93      0.93      0.93        46\n",
      "          4       0.97      1.00      0.99        35\n",
      "          5       0.94      0.94      0.94        48\n",
      "          6       0.96      0.98      0.97        51\n",
      "          7       0.92      1.00      0.96        35\n",
      "          8       0.98      0.84      0.91        58\n",
      "          9       0.95      0.91      0.93        44\n",
      "\n",
      "avg / total       0.95      0.95      0.95       450\n",
      "\n"
     ]
    }
   ],
   "source": [
    "# 依然使用sklearn.metrics里面的classification_report模块对预测结果做更加详细的分析。\n",
    "from sklearn.metrics import classification_report\n",
    "print classification_report(y_test, y_predict, target_names=digits.target_names.astype(str))\n"
   ]
  },
  {
   "cell_type": "code",
   "execution_count": null,
   "metadata": {
    "collapsed": true
   },
   "outputs": [],
   "source": []
  }
 ],
 "metadata": {
  "kernelspec": {
   "display_name": "Python 2",
   "language": "python",
   "name": "python2"
  },
  "language_info": {
   "codemirror_mode": {
    "name": "ipython",
    "version": 2
   },
   "file_extension": ".py",
   "mimetype": "text/x-python",
   "name": "python",
   "nbconvert_exporter": "python",
   "pygments_lexer": "ipython2",
   "version": "2.7.11"
  }
 },
 "nbformat": 4,
 "nbformat_minor": 0
}
