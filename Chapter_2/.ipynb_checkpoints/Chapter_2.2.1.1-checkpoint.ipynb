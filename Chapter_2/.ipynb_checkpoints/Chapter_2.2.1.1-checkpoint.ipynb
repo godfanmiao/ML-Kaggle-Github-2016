{
 "cells": [
  {
   "cell_type": "code",
   "execution_count": 1,
   "metadata": {
    "collapsed": false
   },
   "outputs": [],
   "source": [
    "# 分别导入numpy、matplotlib以及pandas，用于数学运算、作图以及数据分析。\n",
    "import numpy as np\n",
    "import matplotlib.pyplot as plt\n",
    "import pandas as pd\n",
    "\n",
    "# 使用pandas分别读取训练数据与测试数据集。\n",
    "digits_train = pd.read_csv('https://archive.ics.uci.edu/ml/machine-learning-databases/optdigits/optdigits.tra', header=None)\n",
    "digits_test = pd.read_csv('https://archive.ics.uci.edu/ml/machine-learning-databases/optdigits/optdigits.tes', header=None)\n",
    "\n",
    "# 从训练与测试数据集上都分离出64维度的像素特征与1维度的数字目标。\n",
    "X_train = digits_train[np.arange(64)]\n",
    "y_train = digits_train[64]\n",
    "\n",
    "X_test = digits_test[np.arange(64)]\n",
    "y_test = digits_test[64]\n",
    "\n",
    "# 从sklearn.cluster中导入KMeans模型。\n",
    "from sklearn.cluster import KMeans\n",
    "\n",
    "# 初始化KMeans模型，并设置聚类中心数量为10。\n",
    "kmeans = KMeans(n_clusters=10)\n",
    "kmeans.fit(X_train)\n",
    "\n",
    "# 逐条判断每个测试图像所属的聚类中心。\n",
    "y_pred = kmeans.predict(X_test)\n"
   ]
  },
  {
   "cell_type": "code",
   "execution_count": 2,
   "metadata": {
    "collapsed": false
   },
   "outputs": [
    {
     "name": "stdout",
     "output_type": "stream",
     "text": [
      "0.665144851397\n"
     ]
    }
   ],
   "source": [
    "# 从sklearn导入度量函数库metrics。\n",
    "from sklearn import metrics\n",
    "# 使用ARI进行KMeans聚类性能评估。\n",
    "print metrics.adjusted_rand_score(y_test, y_pred)\n"
   ]
  },
  {
   "cell_type": "code",
   "execution_count": 3,
   "metadata": {
    "collapsed": false
   },
   "outputs": [],
   "source": [
    "# 导入numpy。\n",
    "import numpy as np\n",
    "# 从sklearn.cluster中导入KMeans算法包。\n",
    "from sklearn.cluster import KMeans\n",
    "# 从sklearn.metrics导入silhouette_score用于计算轮廓系数。\n",
    "from sklearn.metrics import silhouette_score\n",
    "import matplotlib.pyplot as plt\n",
    "\n",
    "# 分割出3*2=6个子图，并在1号子图作图。\n",
    "plt.subplot(3,2,1)\n",
    "\n",
    "# 初始化原始数据点。\n",
    "x1 = np.array([1, 2, 3, 1, 5, 6, 5, 5, 6, 7, 8, 9, 7, 9])\n",
    "x2 = np.array([1, 3, 2, 2, 8, 6, 7, 6, 7, 1, 2, 1, 1, 3])\n",
    "X = np.array(zip(x1, x2)).reshape(len(x1), 2)\n",
    "\n",
    "# 在1号子图做出原始数据点阵的分布。\n",
    "plt.xlim([0, 10])\n",
    "plt.ylim([0, 10])\n",
    "plt.title('Instances')\n",
    "plt.scatter(x1, x2)\n",
    "\n",
    "colors = ['b', 'g', 'r', 'c', 'm', 'y', 'k', 'b']\n",
    "markers = ['o', 's', 'D', 'v', '^', 'p', '*', '+']\n",
    "\n",
    "clusters = [2, 3, 4, 5, 8]\n",
    "subplot_counter = 1\n",
    "sc_scores = []\n",
    "for t in clusters:\n",
    "    subplot_counter += 1\n",
    "    plt.subplot(3, 2, subplot_counter)\n",
    "    kmeans_model = KMeans(n_clusters=t).fit(X)\n",
    "    for i, l in enumerate(kmeans_model.labels_):\n",
    "        plt.plot(x1[i], x2[i], color=colors[l], marker=markers[l], ls='None')\n",
    "    plt.xlim([0, 10])\n",
    "    plt.ylim([0, 10])\n",
    "    sc_score = silhouette_score(X, kmeans_model.labels_, metric='euclidean')\n",
    "    sc_scores.append(sc_score)\n",
    "\n",
    "# 绘制轮廓系数与不同类簇数量的直观显示图。\n",
    "    plt.title('K = %s, silhouette coefficient= %0.03f' %(t, sc_score))\n",
    "    \n",
    "# 绘制轮廓系数与不同类簇数量的关系曲线。\n",
    "plt.figure()\n",
    "plt.plot(clusters, sc_scores, '*-')\n",
    "plt.xlabel('Number of Clusters')\n",
    "plt.ylabel('Silhouette Coefficient Score')\n",
    "\n",
    "plt.show()\n"
   ]
  },
  {
   "cell_type": "code",
   "execution_count": 4,
   "metadata": {
    "collapsed": true
   },
   "outputs": [],
   "source": [
    "# 导入必要的工具包。\n",
    "import numpy as np\n",
    "from sklearn.cluster import KMeans\n",
    "from scipy.spatial.distance import cdist\n",
    "import matplotlib.pyplot as plt\n",
    "\n",
    "# 使用均匀分布函数随机三个簇，每个簇周围10个数据样本。\n",
    "cluster1 = np.random.uniform(0.5, 1.5, (2, 10))\n",
    "cluster2 = np.random.uniform(5.5, 6.5, (2, 10))\n",
    "cluster3 = np.random.uniform(3.0, 4.0, (2, 10))\n",
    "\n",
    "# 绘制30个数据样本的分布图像。\n",
    "X = np.hstack((cluster1, cluster2, cluster3)).T\n",
    "plt.scatter(X[:,0], X[:, 1])\n",
    "plt.xlabel('x1')\n",
    "plt.ylabel('x2')\n",
    "plt.show()\n",
    "\n",
    "\n",
    "# 测试9种不同聚类中心数量下，每种情况的聚类质量，并作图。\n",
    "K = range(1, 10)\n",
    "meandistortions = []\n",
    "\n",
    "for k in K:\n",
    "    kmeans = KMeans(n_clusters=k)\n",
    "    kmeans.fit(X)\n",
    "    meandistortions.append(sum(np.min(cdist(X, kmeans.cluster_centers_, 'euclidean'), axis=1))/X.shape[0])\n",
    "    \n",
    "plt.plot(K, meandistortions, 'bx-')\n",
    "plt.xlabel('k')\n",
    "plt.ylabel('Average Dispersion')\n",
    "plt.title('Selecting k with the Elbow Method')\n",
    "plt.show()\n"
   ]
  },
  {
   "cell_type": "code",
   "execution_count": null,
   "metadata": {
    "collapsed": true
   },
   "outputs": [],
   "source": []
  }
 ],
 "metadata": {
  "kernelspec": {
   "display_name": "Python 2",
   "language": "python",
   "name": "python2"
  },
  "language_info": {
   "codemirror_mode": {
    "name": "ipython",
    "version": 2
   },
   "file_extension": ".py",
   "mimetype": "text/x-python",
   "name": "python",
   "nbconvert_exporter": "python",
   "pygments_lexer": "ipython2",
   "version": "2.7.11"
  }
 },
 "nbformat": 4,
 "nbformat_minor": 0
}
