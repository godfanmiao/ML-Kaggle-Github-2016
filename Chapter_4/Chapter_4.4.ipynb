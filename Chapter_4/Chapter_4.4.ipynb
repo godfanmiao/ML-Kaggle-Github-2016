{
 "cells": [
  {
   "cell_type": "code",
   "execution_count": 1,
   "metadata": {
    "collapsed": false
   },
   "outputs": [],
   "source": [
    "import pandas as pd"
   ]
  },
  {
   "cell_type": "code",
   "execution_count": 2,
   "metadata": {
    "collapsed": false
   },
   "outputs": [
    {
     "data": {
      "text/plain": [
       "(42000, 785)"
      ]
     },
     "execution_count": 2,
     "metadata": {},
     "output_type": "execute_result"
    }
   ],
   "source": [
    "train = pd.read_csv('../Datasets/MNIST/train.csv')\n",
    "train.shape"
   ]
  },
  {
   "cell_type": "code",
   "execution_count": 3,
   "metadata": {
    "collapsed": false
   },
   "outputs": [
    {
     "data": {
      "text/plain": [
       "(28000, 784)"
      ]
     },
     "execution_count": 3,
     "metadata": {},
     "output_type": "execute_result"
    }
   ],
   "source": [
    "test = pd.read_csv('../Datasets/MNIST/test.csv')\n",
    "test.shape\n"
   ]
  },
  {
   "cell_type": "code",
   "execution_count": 4,
   "metadata": {
    "collapsed": false
   },
   "outputs": [],
   "source": [
    "y_train = train['label']\n",
    "X_train = train.drop('label', 1)"
   ]
  },
  {
   "cell_type": "code",
   "execution_count": 5,
   "metadata": {
    "collapsed": false
   },
   "outputs": [],
   "source": [
    "X_test = test"
   ]
  },
  {
   "cell_type": "code",
   "execution_count": 6,
   "metadata": {
    "collapsed": true
   },
   "outputs": [],
   "source": [
    "import tensorflow as tf\n",
    "\n",
    "import skflow"
   ]
  },
  {
   "cell_type": "code",
   "execution_count": 7,
   "metadata": {
    "collapsed": false
   },
   "outputs": [
    {
     "name": "stdout",
     "output_type": "stream",
     "text": [
      "Step #1, avg. loss: 150.07220\n",
      "Step #101, avg. loss: 21.13627\n",
      "Step #201, avg. loss: 7.63181\n",
      "Step #301, avg. loss: 6.42357\n",
      "Step #401, avg. loss: 6.15198\n",
      "Step #501, epoch #1, avg. loss: 4.97943\n",
      "Step #601, epoch #1, avg. loss: 5.07608\n",
      "Step #701, epoch #1, avg. loss: 5.24003\n",
      "Step #801, epoch #1, avg. loss: 4.98451\n",
      "Step #901, epoch #2, avg. loss: 4.63976\n"
     ]
    }
   ],
   "source": [
    "classifier = skflow.TensorFlowLinearClassifier(\n",
    "    n_classes=10, batch_size=100, steps=1000, learning_rate=0.01)\n",
    "classifier.fit(X_train, y_train)\n",
    "linear_y_predict = classifier.predict(X_test)\n",
    "\n",
    "linear_submission = pd.DataFrame({'ImageId':range(1, 28001), 'Label': linear_y_predict})\n",
    "linear_submission.to_csv('../Datasets/MNIST/linear_submission.csv', index = False)\n"
   ]
  },
  {
   "cell_type": "code",
   "execution_count": 8,
   "metadata": {
    "collapsed": false
   },
   "outputs": [
    {
     "name": "stdout",
     "output_type": "stream",
     "text": [
      "Step #1, avg. loss: 46.02682\n",
      "Step #501, avg. loss: 1.89034\n",
      "Step #1001, epoch #1, avg. loss: 0.90703\n",
      "Step #1501, epoch #1, avg. loss: 0.60030\n",
      "Step #2001, epoch #2, avg. loss: 0.37411\n",
      "Step #2501, epoch #2, avg. loss: 0.28791\n",
      "Step #3001, epoch #3, avg. loss: 0.21417\n",
      "Step #3501, epoch #4, avg. loss: 0.20303\n",
      "Step #4001, epoch #4, avg. loss: 0.15946\n",
      "Step #4501, epoch #5, avg. loss: 0.14044\n"
     ]
    }
   ],
   "source": [
    "classifier = skflow.TensorFlowDNNClassifier(hidden_units=[200, 50, 10], n_classes = 10,\n",
    "    steps=5000, learning_rate=0.01, batch_size=50)\n",
    "classifier.fit(X_train, y_train)\n",
    "dnn_y_predict = classifier.predict(X_test)\n",
    "\n",
    "dnn_submission = pd.DataFrame({'ImageId':range(1, 28001), 'Label': dnn_y_predict})\n",
    "dnn_submission.to_csv('../Datasets/MNIST/dnn_submission.csv', index = False)"
   ]
  },
  {
   "cell_type": "code",
   "execution_count": 9,
   "metadata": {
    "collapsed": false,
    "scrolled": false
   },
   "outputs": [
    {
     "name": "stdout",
     "output_type": "stream",
     "text": [
      "Step #1, avg. loss: 123.86279\n",
      "Step #2001, epoch #4, avg. loss: 5.31864\n",
      "Step #4001, epoch #9, avg. loss: 0.25143\n",
      "Step #6001, epoch #14, avg. loss: 0.09304\n",
      "Step #8001, epoch #19, avg. loss: 0.03642\n",
      "Step #10001, epoch #23, avg. loss: 0.01281\n",
      "Step #12001, epoch #28, avg. loss: 0.00471\n",
      "Step #14001, epoch #33, avg. loss: 0.00199\n",
      "Step #16001, epoch #38, avg. loss: 0.00095\n",
      "Step #18001, epoch #42, avg. loss: 0.00051\n"
     ]
    },
    {
     "data": {
      "text/plain": [
       "TensorFlowEstimator(batch_size=100, continue_training=False,\n",
       "          early_stopping_rounds=None, keep_checkpoint_every_n_hours=10000,\n",
       "          learning_rate=0.001, max_to_keep=5,\n",
       "          model_fn=<function conv_model at 0x1082cdf50>, n_classes=10,\n",
       "          num_cores=4, optimizer='SGD', steps=20000, tf_master='',\n",
       "          tf_random_seed=42, verbose=1)"
      ]
     },
     "execution_count": 9,
     "metadata": {},
     "output_type": "execute_result"
    }
   ],
   "source": [
    "def max_pool_2x2(tensor_in):\n",
    "    return tf.nn.max_pool(tensor_in, ksize=[1, 2, 2, 1], strides=[1, 2, 2, 1],\n",
    "        padding='SAME')\n",
    "\n",
    "def conv_model(X, y):\n",
    "    X = tf.reshape(X, [-1, 28, 28, 1])\n",
    "    with tf.variable_scope('conv_layer1'):\n",
    "        h_conv1 = skflow.ops.conv2d(X, n_filters=32, filter_shape=[5, 5], \n",
    "                                    bias=True, activation=tf.nn.relu)\n",
    "        h_pool1 = max_pool_2x2(h_conv1)\n",
    "        \n",
    "    with tf.variable_scope('conv_layer2'):\n",
    "        h_conv2 = skflow.ops.conv2d(h_pool1, n_filters=64, filter_shape=[5, 5], \n",
    "                                    bias=True, activation=tf.nn.relu)\n",
    "        h_pool2 = max_pool_2x2(h_conv2)\n",
    "        h_pool2_flat = tf.reshape(h_pool2, [-1, 7 * 7 * 64])\n",
    "        \n",
    "    h_fc1 = skflow.ops.dnn(h_pool2_flat, [1024], activation=tf.nn.relu, keep_prob=0.5)\n",
    "    return skflow.models.logistic_regression(h_fc1, y)\n",
    "\n",
    "classifier = skflow.TensorFlowEstimator(\n",
    "    model_fn=conv_model, n_classes=10, batch_size=100, steps=20000,\n",
    "    learning_rate=0.001)\n",
    "classifier.fit(X_train, y_train)\n"
   ]
  },
  {
   "cell_type": "code",
   "execution_count": 10,
   "metadata": {
    "collapsed": false
   },
   "outputs": [],
   "source": [
    "conv_y_predict = []\n",
    "import numpy as np"
   ]
  },
  {
   "cell_type": "code",
   "execution_count": 11,
   "metadata": {
    "collapsed": false
   },
   "outputs": [],
   "source": [
    "for i in np.arange(100, 28001, 100):\n",
    "    conv_y_predict = np.append(conv_y_predict, classifier.predict(X_test[i - 100:i]))\n",
    "    "
   ]
  },
  {
   "cell_type": "code",
   "execution_count": 12,
   "metadata": {
    "collapsed": false
   },
   "outputs": [
    {
     "data": {
      "text/plain": [
       "array([ 2.,  0.,  9.,  9.,  3.,  7.,  0.,  3.,  0.,  3.])"
      ]
     },
     "execution_count": 12,
     "metadata": {},
     "output_type": "execute_result"
    }
   ],
   "source": [
    "conv_y_predict[:10]"
   ]
  },
  {
   "cell_type": "code",
   "execution_count": 13,
   "metadata": {
    "collapsed": false
   },
   "outputs": [],
   "source": [
    "conv_submission = pd.DataFrame({'ImageId':range(1, 28001), 'Label': np.int32(conv_y_predict)})\n",
    "conv_submission.to_csv('../Datasets/MNIST/conv_submission.csv', index = False)"
   ]
  },
  {
   "cell_type": "code",
   "execution_count": null,
   "metadata": {
    "collapsed": true
   },
   "outputs": [],
   "source": []
  }
 ],
 "metadata": {
  "kernelspec": {
   "display_name": "Python 2",
   "language": "python",
   "name": "python2"
  },
  "language_info": {
   "codemirror_mode": {
    "name": "ipython",
    "version": 2
   },
   "file_extension": ".py",
   "mimetype": "text/x-python",
   "name": "python",
   "nbconvert_exporter": "python",
   "pygments_lexer": "ipython2",
   "version": "2.7.11"
  }
 },
 "nbformat": 4,
 "nbformat_minor": 0
}
