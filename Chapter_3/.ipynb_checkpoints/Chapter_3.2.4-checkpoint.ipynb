{
 "cells": [
  {
   "cell_type": "code",
   "execution_count": 1,
   "metadata": {
    "collapsed": true
   },
   "outputs": [],
   "source": [
    "import tensorflow as tf\n",
    "import numpy as np"
   ]
  },
  {
   "cell_type": "code",
   "execution_count": 2,
   "metadata": {
    "collapsed": false
   },
   "outputs": [
    {
     "name": "stdout",
     "output_type": "stream",
     "text": [
      "Hello Google Tensorflow!\n"
     ]
    }
   ],
   "source": [
    "greeting = tf.constant('Hello Google Tensorflow!')\n",
    "\n",
    "sess = tf.Session()\n",
    "result = sess.run(greeting)\n",
    "print result\n",
    "sess.close()"
   ]
  },
  {
   "cell_type": "code",
   "execution_count": 3,
   "metadata": {
    "collapsed": false
   },
   "outputs": [
    {
     "name": "stdout",
     "output_type": "stream",
     "text": [
      "[[ 14.]]\n"
     ]
    }
   ],
   "source": [
    "matrix1 = tf.constant([[3., 3.]])\n",
    "matrix2 = tf.constant([[2.],[2.]])\n",
    "product = tf.matmul(matrix1, matrix2)\n",
    "linear = tf.add(product, tf.constant(2.0))\n",
    "\n",
    "with tf.Session() as sess:\n",
    "    result = sess.run(linear)\n",
    "    print result\n",
    "    "
   ]
  },
  {
   "cell_type": "code",
   "execution_count": 4,
   "metadata": {
    "collapsed": false
   },
   "outputs": [],
   "source": [
    "import tensorflow as tf\n",
    "import numpy as np\n",
    "import pandas as pd\n",
    "\n",
    "train = pd.read_csv('../Datasets/Breast-Cancer/breast-cancer-train.csv')\n",
    "test = pd.read_csv('../Datasets/Breast-Cancer/breast-cancer-test.csv')\n",
    "\n",
    "\n",
    "X_train = np.float32(train[['Clump Thickness', 'Cell Size']].T)\n",
    "y_train = np.float32(train['Type'].T)\n",
    "X_test = np.float32(test[['Clump Thickness', 'Cell Size']].T)\n",
    "y_test = np.float32(test['Type'].T)\n"
   ]
  },
  {
   "cell_type": "code",
   "execution_count": 5,
   "metadata": {
    "collapsed": false
   },
   "outputs": [
    {
     "name": "stdout",
     "output_type": "stream",
     "text": [
      "0 [[ 0.32832965  0.01579139]] [-0.06232916]\n",
      "200 [[ 0.06633329  0.06811267]] [-0.08111253]\n",
      "400 [[ 0.05831201  0.07677723]] [-0.08568323]\n",
      "600 [[ 0.05788761  0.07736142]] [-0.08667096]\n",
      "800 [[ 0.05786182  0.07741673]] [-0.08684841]\n"
     ]
    }
   ],
   "source": [
    "b = tf.Variable(tf.zeros([1]))\n",
    "W = tf.Variable(tf.random_uniform([1, 2], -1.0, 1.0))\n",
    "y = tf.matmul(W, X_train) + b\n",
    "\n",
    "# 最小化方差\n",
    "loss = tf.reduce_mean(tf.square(y - y_train))\n",
    "optimizer = tf.train.GradientDescentOptimizer(0.01)\n",
    "train = optimizer.minimize(loss)\n",
    "\n",
    "# 初始化变量\n",
    "init = tf.initialize_all_variables()\n",
    "\n",
    "# 启动图 (graph)\n",
    "sess = tf.Session()\n",
    "sess.run(init)\n",
    "\n",
    "# 拟合平面\n",
    "for step in xrange(0, 1000):\n",
    "    sess.run(train)\n",
    "    if step % 200 == 0:\n",
    "        print step, sess.run(W), sess.run(b)"
   ]
  },
  {
   "cell_type": "code",
   "execution_count": 6,
   "metadata": {
    "collapsed": false
   },
   "outputs": [
    {
     "name": "stderr",
     "output_type": "stream",
     "text": [
      "/Users/jieleizhu/anaconda/lib/python2.7/site-packages/matplotlib/font_manager.py:273: UserWarning: Matplotlib is building the font cache using fc-list. This may take a moment.\n",
      "  warnings.warn('Matplotlib is building the font cache using fc-list. This may take a moment.')\n"
     ]
    },
    {
     "data": {
      "text/plain": [
       "<matplotlib.text.Text at 0x10c3798d0>"
      ]
     },
     "execution_count": 6,
     "metadata": {},
     "output_type": "execute_result"
    }
   ],
   "source": [
    "test_negative = test.loc[test['Type'] == 0][['Clump Thickness', 'Cell Size']]\n",
    "test_positive = test.loc[test['Type'] == 1][['Clump Thickness', 'Cell Size']]\n",
    "\n",
    "import matplotlib.pyplot as plt\n",
    "plt.scatter(test_negative['Clump Thickness'], test_negative['Cell Size'], marker='o', s = 200, c = 'red')\n",
    "plt.scatter(test_positive['Clump Thickness'], test_positive['Cell Size'], marker='x', s = 150, c = 'black')\n",
    "\n",
    "plt.xlabel('Clump Thickness')\n",
    "plt.ylabel('Cell Size')"
   ]
  },
  {
   "cell_type": "code",
   "execution_count": 7,
   "metadata": {
    "collapsed": false
   },
   "outputs": [],
   "source": [
    "lx = np.arange(0, 12)\n",
    "ly = (0.5 - sess.run(b) - lx * sess.run(W)[0][0]) / sess.run(W)[0][1]\n",
    "\n",
    "\n",
    "plt.plot(lx, ly, color ='green')\n",
    "plt.show()"
   ]
  },
  {
   "cell_type": "code",
   "execution_count": 8,
   "metadata": {
    "collapsed": true
   },
   "outputs": [],
   "source": [
    "\n",
    "from sklearn import datasets, metrics, preprocessing, cross_validation\n",
    "\n",
    "# Load dataset\n",
    "boston = datasets.load_boston()\n",
    "X, y = boston.data, boston.target\n",
    "\n",
    "# Split dataset into train / test\n",
    "X_train, X_test, y_train, y_test = cross_validation.train_test_split(X, y,\n",
    "    test_size=0.25, random_state=33)\n",
    "\n",
    "scaler = preprocessing.StandardScaler()\n",
    "X_train = scaler.fit_transform(X_train)\n",
    "X_test = scaler.transform(X_test)"
   ]
  },
  {
   "cell_type": "code",
   "execution_count": 9,
   "metadata": {
    "collapsed": false
   },
   "outputs": [
    {
     "name": "stdout",
     "output_type": "stream",
     "text": [
      "Step #1, avg. loss: 595.96338\n",
      "Step #1001, epoch #125, avg. loss: 105.57941\n",
      "Step #2001, epoch #250, avg. loss: 21.24366\n",
      "Step #3001, epoch #375, avg. loss: 21.37193\n",
      "Step #4001, epoch #500, avg. loss: 21.29527\n",
      "Step #5001, epoch #625, avg. loss: 21.21216\n",
      "Step #6001, epoch #750, avg. loss: 21.18802\n",
      "Step #7001, epoch #875, avg. loss: 21.19276\n",
      "Step #8001, epoch #1000, avg. loss: 21.28822\n",
      "Step #9001, epoch #1125, avg. loss: 21.17799\n",
      "The mean absoluate error of Tensorflow Linear Regressor on boston dataset is 3.51069934875\n",
      "The mean squared error of Tensorflow Linear Regressor on boston dataset is 25.1175995458\n",
      "The R-squared value of Tensorflow Linear Regressor on boston dataset is 0.620007674595\n"
     ]
    }
   ],
   "source": [
    "import skflow\n",
    "\n",
    "tf_lr = skflow.TensorFlowLinearRegressor(steps=10000, learning_rate=0.01, batch_size=50)\n",
    "tf_lr.fit(X_train, y_train)\n",
    "tf_lr_y_predict = tf_lr.predict(X_test)\n",
    "\n",
    "print 'The mean absoluate error of Tensorflow Linear Regressor on boston dataset is', metrics.mean_absolute_error(tf_lr_y_predict, y_test)\n",
    "print 'The mean squared error of Tensorflow Linear Regressor on boston dataset is', metrics.mean_squared_error(tf_lr_y_predict, y_test)\n",
    "print 'The R-squared value of Tensorflow Linear Regressor on boston dataset is', metrics.r2_score(tf_lr_y_predict, y_test)"
   ]
  },
  {
   "cell_type": "code",
   "execution_count": 10,
   "metadata": {
    "collapsed": false
   },
   "outputs": [
    {
     "name": "stdout",
     "output_type": "stream",
     "text": [
      "Step #1, avg. loss: 640.79572\n",
      "Step #1001, epoch #125, avg. loss: 25.67079\n",
      "Step #2001, epoch #250, avg. loss: 3.89196\n",
      "Step #3001, epoch #375, avg. loss: 2.48694\n",
      "Step #4001, epoch #500, avg. loss: 1.91246\n",
      "Step #5001, epoch #625, avg. loss: 1.62935\n",
      "Step #6001, epoch #750, avg. loss: 1.45105\n",
      "Step #7001, epoch #875, avg. loss: 1.30371\n",
      "Step #8001, epoch #1000, avg. loss: 1.20998\n",
      "Step #9001, epoch #1125, avg. loss: 1.12960\n",
      "The mean absoluate error of Tensorflow DNN Regressor on boston dataset is 2.52779822988\n",
      "The mean squared error of Tensorflow DNN Regressor on boston dataset is 14.2553529174\n",
      "The R-squared value of Tensorflow DNN Regressor on boston dataset is 0.803518644048\n"
     ]
    }
   ],
   "source": [
    "\n",
    "tf_dnn_regressor = skflow.TensorFlowDNNRegressor(hidden_units=[100, 40],\n",
    "    steps=10000, learning_rate=0.01, batch_size=50)\n",
    "\n",
    "\n",
    "tf_dnn_regressor.fit(X_train, y_train)\n",
    "tf_dnn_regressor_y_predict = tf_dnn_regressor.predict(X_test)\n",
    "\n",
    "\n",
    "print 'The mean absoluate error of Tensorflow DNN Regressor on boston dataset is', metrics.mean_absolute_error(tf_dnn_regressor_y_predict, y_test)\n",
    "print 'The mean squared error of Tensorflow DNN Regressor on boston dataset is', metrics.mean_squared_error(tf_dnn_regressor_y_predict, y_test)\n",
    "print 'The R-squared value of Tensorflow DNN Regressor on boston dataset is', metrics.r2_score(tf_dnn_regressor_y_predict, y_test)"
   ]
  },
  {
   "cell_type": "code",
   "execution_count": 11,
   "metadata": {
    "collapsed": false
   },
   "outputs": [
    {
     "name": "stdout",
     "output_type": "stream",
     "text": [
      "The mean absoluate error of Sklearn Random Forest Regressor on boston dataset is 2.50771653543\n",
      "The mean squared error of Sklearn Random Forest Regressor on boston dataset is 14.3741984252\n",
      "The R-squared value of Sklearn Random Forest Regressor on boston dataset is 0.796699065196\n"
     ]
    }
   ],
   "source": [
    "from sklearn.ensemble import RandomForestRegressor\n",
    "\n",
    "rfr = RandomForestRegressor()\n",
    "rfr.fit(X_train, y_train)\n",
    "rfr_y_predict = rfr.predict(X_test)\n",
    "\n",
    "print 'The mean absoluate error of Sklearn Random Forest Regressor on boston dataset is', metrics.mean_absolute_error(rfr_y_predict, y_test)\n",
    "print 'The mean squared error of Sklearn Random Forest Regressor on boston dataset is', metrics.mean_squared_error(rfr_y_predict, y_test)\n",
    "print 'The R-squared value of Sklearn Random Forest Regressor on boston dataset is', metrics.r2_score(rfr_y_predict, y_test)"
   ]
  },
  {
   "cell_type": "code",
   "execution_count": null,
   "metadata": {
    "collapsed": true
   },
   "outputs": [],
   "source": []
  }
 ],
 "metadata": {
  "kernelspec": {
   "display_name": "Python 2",
   "language": "python",
   "name": "python2"
  },
  "language_info": {
   "codemirror_mode": {
    "name": "ipython",
    "version": 2
   },
   "file_extension": ".py",
   "mimetype": "text/x-python",
   "name": "python",
   "nbconvert_exporter": "python",
   "pygments_lexer": "ipython2",
   "version": "2.7.11"
  }
 },
 "nbformat": 4,
 "nbformat_minor": 0
}
