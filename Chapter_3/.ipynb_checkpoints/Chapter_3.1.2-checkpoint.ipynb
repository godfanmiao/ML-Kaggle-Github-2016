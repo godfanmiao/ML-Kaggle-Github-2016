{
 "cells": [
  {
   "cell_type": "code",
   "execution_count": 1,
   "metadata": {
    "collapsed": false
   },
   "outputs": [
    {
     "name": "stdout",
     "output_type": "stream",
     "text": [
      "The R-squared value of Linear Regressor performing on the training data is 0.910001596424\n"
     ]
    }
   ],
   "source": [
    "# 输入训练样本的特征以及目标值，分别存储在变量X_train与y_train之中。\n",
    "X_train = [[6], [8], [10], [14], [18]]\n",
    "y_train = [[7], [9], [13], [17.5], [18]]\n",
    "\n",
    "# 从sklearn.linear_model中导入LinearRegression。\n",
    "from sklearn.linear_model import LinearRegression\n",
    "# 使用默认配置初始化线性回归模型。\n",
    "regressor = LinearRegression()\n",
    "# 直接以披萨的直径作为特征训练模型。\n",
    "regressor.fit(X_train, y_train)\n",
    "\n",
    "# 导入numpy并且重命名为np。\n",
    "import numpy as np\n",
    "# 在x轴上从0至25均匀采样100个数据点。\n",
    "xx = np.linspace(0, 26, 100)\n",
    "xx = xx.reshape(xx.shape[0], 1)\n",
    "# 以上述100个数据点作为基准，预测回归直线。\n",
    "yy = regressor.predict(xx)\n",
    "\n",
    "# 对回归预测到的直线进行作图。\n",
    "import matplotlib.pyplot as plt\n",
    "plt.scatter(X_train, y_train)\n",
    "plt1, = plt.plot(xx, yy, label=\"Degree=1\")\n",
    "plt.axis([0, 25, 0, 25])\n",
    "plt.xlabel('Diameter of Pizza')\n",
    "plt.ylabel('Price of Pizza')\n",
    "plt.legend(handles = [plt1])\n",
    "plt.show()\n",
    "\n",
    "# 输出线性回归模型在训练样本上的R-squared值。 \n",
    "print 'The R-squared value of Linear Regressor performing on the training data is', regressor.score(X_train, y_train)\n"
   ]
  },
  {
   "cell_type": "code",
   "execution_count": 2,
   "metadata": {
    "collapsed": false
   },
   "outputs": [
    {
     "name": "stdout",
     "output_type": "stream",
     "text": [
      "The R-squared value of Polynominal Regressor (Degree=2) performing on the training data is 0.98164216396\n"
     ]
    }
   ],
   "source": [
    "# 从sklearn.preproessing中导入多项式特征产生器\n",
    "from sklearn.preprocessing import PolynomialFeatures\n",
    "# 使用PolynominalFeatures(degree=2)映射出2次多项式特征，存储在变量X_train_poly2中。\n",
    "poly2 = PolynomialFeatures(degree=2)\n",
    "X_train_poly2 = poly2.fit_transform(X_train)\n",
    "\n",
    "# 以线性回归器为基础，初始化回归模型。尽管特征的维度有提升，但是模型基础仍然是线性模型。\n",
    "regressor_poly2 = LinearRegression()\n",
    "\n",
    "# 对2次多项式回归模型进行训练。\n",
    "regressor_poly2.fit(X_train_poly2, y_train)\n",
    "\n",
    "# 从新映射绘图用x轴采样数据。\n",
    "xx_poly2 = poly2.transform(xx)\n",
    "\n",
    "# 使用2次多项式回归模型对应x轴采样数据进行回归预测。\n",
    "yy_poly2 = regressor_poly2.predict(xx_poly2)\n",
    "\n",
    "# 分别对训练数据点、线性回归直线、2次多项式回归曲线进行作图。\n",
    "plt.scatter(X_train, y_train)\n",
    "\n",
    "plt1, = plt.plot(xx, yy, label='Degree=1')\n",
    "plt2, = plt.plot(xx, yy_poly2, label='Degree=2')\n",
    "\n",
    "plt.axis([0, 25, 0, 25])\n",
    "plt.xlabel('Diameter of Pizza')\n",
    "plt.ylabel('Price of Pizza')\n",
    "plt.legend(handles = [plt1, plt2])\n",
    "plt.show()\n",
    "\n",
    "# 输出2次多项式回归模型在训练样本上的R-squared值。 \n",
    "print 'The R-squared value of Polynominal Regressor (Degree=2) performing on the training data is', regressor_poly2.score(X_train_poly2, y_train)\n"
   ]
  },
  {
   "cell_type": "code",
   "execution_count": 3,
   "metadata": {
    "collapsed": false
   },
   "outputs": [
    {
     "name": "stdout",
     "output_type": "stream",
     "text": [
      "The R-squared value of Polynominal Regressor (Degree=4) performing on the training data is 1.0\n"
     ]
    }
   ],
   "source": [
    "# 从sklearn.preprocessing导入多项式特征生成器。 \n",
    "from sklearn.preprocessing import PolynomialFeatures\n",
    "# 初始化4次多项式特征生成器。 \n",
    "poly4 = PolynomialFeatures(degree=4)\n",
    "\n",
    "X_train_poly4 = poly4.fit_transform(X_train)\n",
    "\n",
    "# 使用默认配置初始化4次多项式回归器。 \n",
    "regressor_poly4 = LinearRegression()\n",
    "# 对4次多项式回归模型进行训练。\n",
    "regressor_poly4.fit(X_train_poly4, y_train)\n",
    "\n",
    "# 从新映射绘图用x轴采样数据。\n",
    "xx_poly4 = poly4.transform(xx)\n",
    "# 使用4次多项式回归模型对应x轴采样数据进行回归预测。\n",
    "yy_poly4 = regressor_poly4.predict(xx_poly4)\n",
    "\n",
    "# 分别对训练数据点、线性回归直线、2次多项式以及4次多项式回归曲线进行作图。\n",
    "plt.scatter(X_train, y_train)\n",
    "plt1, = plt.plot(xx, yy, label='Degree=1')\n",
    "plt2, = plt.plot(xx, yy_poly2, label='Degree=2')\n",
    "\n",
    "plt4, = plt.plot(xx, yy_poly4, label='Degree=4')\n",
    "plt.axis([0, 25, 0, 25])\n",
    "plt.xlabel('Diameter of Pizza')\n",
    "plt.ylabel('Price of Pizza')\n",
    "plt.legend(handles = [plt1, plt2, plt4])\n",
    "plt.show()\n",
    "\n",
    "print 'The R-squared value of Polynominal Regressor (Degree=4) performing on the training data is',regressor_poly4.score(X_train_poly4, y_train)\n"
   ]
  },
  {
   "cell_type": "code",
   "execution_count": 4,
   "metadata": {
    "collapsed": true
   },
   "outputs": [],
   "source": [
    "# 准备测试数据。\n",
    "X_test = [[6], [8], [11], [16]]\n",
    "y_test = [[8], [12], [15], [18]]\n"
   ]
  },
  {
   "cell_type": "code",
   "execution_count": 5,
   "metadata": {
    "collapsed": false
   },
   "outputs": [
    {
     "data": {
      "text/plain": [
       "0.80972683246686095"
      ]
     },
     "execution_count": 5,
     "metadata": {},
     "output_type": "execute_result"
    }
   ],
   "source": [
    "# 使用测试数据对线性回归模型的性能进行评估。\n",
    "regressor.score(X_test, y_test)"
   ]
  },
  {
   "cell_type": "code",
   "execution_count": 6,
   "metadata": {
    "collapsed": false
   },
   "outputs": [
    {
     "data": {
      "text/plain": [
       "0.86754436563450543"
      ]
     },
     "execution_count": 6,
     "metadata": {},
     "output_type": "execute_result"
    }
   ],
   "source": [
    "# 使用测试数据对2次多项式回归模型的性能进行评估。\n",
    "X_test_poly2 = poly2.transform(X_test)\n",
    "regressor_poly2.score(X_test_poly2, y_test)\n",
    "\n"
   ]
  },
  {
   "cell_type": "code",
   "execution_count": 7,
   "metadata": {
    "collapsed": false
   },
   "outputs": [
    {
     "data": {
      "text/plain": [
       "0.8095880795781909"
      ]
     },
     "execution_count": 7,
     "metadata": {},
     "output_type": "execute_result"
    }
   ],
   "source": [
    "# 使用测试数据对4次多项式回归模型的性能进行评估。\n",
    "X_test_poly4 = poly4.transform(X_test)\n",
    "regressor_poly4.score(X_test_poly4, y_test)"
   ]
  },
  {
   "cell_type": "code",
   "execution_count": 8,
   "metadata": {
    "collapsed": false
   },
   "outputs": [
    {
     "name": "stdout",
     "output_type": "stream",
     "text": [
      "0.83889268736\n"
     ]
    },
    {
     "name": "stderr",
     "output_type": "stream",
     "text": [
      "C:\\Anaconda2\\lib\\site-packages\\sklearn\\linear_model\\coordinate_descent.py:466: ConvergenceWarning: Objective did not converge. You might want to increase the number of iterations\n",
      "  ConvergenceWarning)\n"
     ]
    }
   ],
   "source": [
    "# 从sklearn.linear_model中导入Lasso。\n",
    "from sklearn.linear_model import Lasso\n",
    "\n",
    "# 从使用默认配置初始化Lasso。\n",
    "lasso_poly4 = Lasso()\n",
    "# 从使用Lasso对4次多项式特征进行拟合。\n",
    "lasso_poly4.fit(X_train_poly4, y_train)\n",
    "\n",
    "# 对Lasso模型在测试样本上的回归性能进行评估。\n",
    "print lasso_poly4.score(X_test_poly4, y_test)\n"
   ]
  },
  {
   "cell_type": "code",
   "execution_count": 9,
   "metadata": {
    "collapsed": false
   },
   "outputs": [
    {
     "name": "stdout",
     "output_type": "stream",
     "text": [
      "[  0.00000000e+00   0.00000000e+00   1.17900534e-01   5.42646770e-05\n",
      "  -2.23027128e-04]\n"
     ]
    }
   ],
   "source": [
    "# 输出Lasso模型的参数列表。\n",
    "print lasso_poly4.coef_\n"
   ]
  },
  {
   "cell_type": "code",
   "execution_count": 10,
   "metadata": {
    "collapsed": false
   },
   "outputs": [
    {
     "name": "stdout",
     "output_type": "stream",
     "text": [
      "0.809588079578\n"
     ]
    }
   ],
   "source": [
    "# 回顾普通4次多项式回归模型过拟合之后的性能。\n",
    "print regressor_poly4.score(X_test_poly4, y_test)\n"
   ]
  },
  {
   "cell_type": "code",
   "execution_count": 11,
   "metadata": {
    "collapsed": false
   },
   "outputs": [
    {
     "name": "stdout",
     "output_type": "stream",
     "text": [
      "[[  0.00000000e+00  -2.51739583e+01   3.68906250e+00  -2.12760417e-01\n",
      "    4.29687500e-03]]\n"
     ]
    }
   ],
   "source": [
    "# 回顾普通4次多项式回归模型的参数列表。\n",
    "print regressor_poly4.coef_\n"
   ]
  },
  {
   "cell_type": "code",
   "execution_count": 12,
   "metadata": {
    "collapsed": false
   },
   "outputs": [
    {
     "name": "stdout",
     "output_type": "stream",
     "text": [
      "[[  0.00000000e+00  -2.51739583e+01   3.68906250e+00  -2.12760417e-01\n",
      "    4.29687500e-03]]\n"
     ]
    }
   ],
   "source": [
    "# 输出普通4次多项式回归模型的参数列表。\n",
    "print regressor_poly4.coef_\n"
   ]
  },
  {
   "cell_type": "code",
   "execution_count": 13,
   "metadata": {
    "collapsed": false
   },
   "outputs": [
    {
     "name": "stdout",
     "output_type": "stream",
     "text": [
      "647.382645692\n"
     ]
    }
   ],
   "source": [
    "# 输出上述这些参数的平方和，验证参数之间的巨大差异。\n",
    "print np.sum(regressor_poly4.coef_ ** 2)\n"
   ]
  },
  {
   "cell_type": "code",
   "execution_count": 14,
   "metadata": {
    "collapsed": true
   },
   "outputs": [],
   "source": [
    "# 从sklearn.linear_model导入Ridge。\n",
    "from sklearn.linear_model import Ridge\n",
    "# 使用默认配置初始化Riedge。\n",
    "ridge_poly4 = Ridge()\n"
   ]
  },
  {
   "cell_type": "code",
   "execution_count": 15,
   "metadata": {
    "collapsed": false
   },
   "outputs": [
    {
     "name": "stdout",
     "output_type": "stream",
     "text": [
      "0.837420175937\n"
     ]
    }
   ],
   "source": [
    "# 使用Ridge模型对4次多项式特征进行拟合。\n",
    "ridge_poly4.fit(X_train_poly4, y_train)\n",
    "\n",
    "# 输出Ridge模型在测试样本上的回归性能。\n",
    "print ridge_poly4.score(X_test_poly4, y_test)\n"
   ]
  },
  {
   "cell_type": "code",
   "execution_count": 16,
   "metadata": {
    "collapsed": false
   },
   "outputs": [
    {
     "name": "stdout",
     "output_type": "stream",
     "text": [
      "[[ 0.         -0.00492536  0.12439632 -0.00046471 -0.00021205]]\n"
     ]
    }
   ],
   "source": [
    "# 输出Ridge模型的参数列表，观察参数差异。\n",
    "print ridge_poly4.coef_\n"
   ]
  },
  {
   "cell_type": "code",
   "execution_count": 17,
   "metadata": {
    "collapsed": false
   },
   "outputs": [
    {
     "name": "stdout",
     "output_type": "stream",
     "text": [
      "0.0154989652036\n"
     ]
    }
   ],
   "source": [
    "\n",
    "# 计算Ridge模型拟合后参数的平方和。\n",
    "print np.sum(ridge_poly4.coef_ ** 2)\n"
   ]
  },
  {
   "cell_type": "code",
   "execution_count": null,
   "metadata": {
    "collapsed": true
   },
   "outputs": [],
   "source": []
  }
 ],
 "metadata": {
  "kernelspec": {
   "display_name": "Python 2",
   "language": "python",
   "name": "python2"
  },
  "language_info": {
   "codemirror_mode": {
    "name": "ipython",
    "version": 2
   },
   "file_extension": ".py",
   "mimetype": "text/x-python",
   "name": "python",
   "nbconvert_exporter": "python",
   "pygments_lexer": "ipython2",
   "version": "2.7.11"
  }
 },
 "nbformat": 4,
 "nbformat_minor": 0
}
