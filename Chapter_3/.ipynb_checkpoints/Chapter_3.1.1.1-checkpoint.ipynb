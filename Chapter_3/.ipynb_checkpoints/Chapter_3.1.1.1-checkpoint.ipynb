{
 "cells": [
  {
   "cell_type": "code",
   "execution_count": 1,
   "metadata": {
    "collapsed": false
   },
   "outputs": [
    {
     "name": "stdout",
     "output_type": "stream",
     "text": [
      "[[  1.   0.   0.  33.]\n",
      " [  0.   1.   0.  12.]\n",
      " [  0.   0.   1.  18.]]\n",
      "['city=Dubai', 'city=London', 'city=San Fransisco', 'temperature']\n"
     ]
    }
   ],
   "source": [
    "# 定义一组字典列表，用来表示多个数据样本（每个字典代表一个数据样本）。\n",
    "measurements = [{'city': 'Dubai', 'temperature': 33.}, {'city': 'London', 'temperature': 12.}, {'city': 'San Fransisco', 'temperature': 18.}]\n",
    "# 从sklearn.feature_extraction 导入 DictVectorizer\n",
    "from sklearn.feature_extraction import DictVectorizer\n",
    "# 初始化DictVectorizer特征抽取器\n",
    "vec = DictVectorizer()\n",
    "# 输出转化之后的特征矩阵。\n",
    "print vec.fit_transform(measurements).toarray()\n",
    "# 输出各个维度的特征含义。\n",
    "print vec.get_feature_names()\n"
   ]
  },
  {
   "cell_type": "code",
   "execution_count": 2,
   "metadata": {
    "collapsed": false
   },
   "outputs": [
    {
     "name": "stdout",
     "output_type": "stream",
     "text": [
      "The accuracy of classifying 20newsgroups using Naive Bayes (CountVectorizer without filtering stopwords): 0.839770797963\n",
      "                          precision    recall  f1-score   support\n",
      "\n",
      "             alt.atheism       0.86      0.86      0.86       201\n",
      "           comp.graphics       0.59      0.86      0.70       250\n",
      " comp.os.ms-windows.misc       0.89      0.10      0.17       248\n",
      "comp.sys.ibm.pc.hardware       0.60      0.88      0.72       240\n",
      "   comp.sys.mac.hardware       0.93      0.78      0.85       242\n",
      "          comp.windows.x       0.82      0.84      0.83       263\n",
      "            misc.forsale       0.91      0.70      0.79       257\n",
      "               rec.autos       0.89      0.89      0.89       238\n",
      "         rec.motorcycles       0.98      0.92      0.95       276\n",
      "      rec.sport.baseball       0.98      0.91      0.95       251\n",
      "        rec.sport.hockey       0.93      0.99      0.96       233\n",
      "               sci.crypt       0.86      0.98      0.91       238\n",
      "         sci.electronics       0.85      0.88      0.86       249\n",
      "                 sci.med       0.92      0.94      0.93       245\n",
      "               sci.space       0.89      0.96      0.92       221\n",
      "  soc.religion.christian       0.78      0.96      0.86       232\n",
      "      talk.politics.guns       0.88      0.96      0.92       251\n",
      "   talk.politics.mideast       0.90      0.98      0.94       231\n",
      "      talk.politics.misc       0.79      0.89      0.84       188\n",
      "      talk.religion.misc       0.93      0.44      0.60       158\n",
      "\n",
      "             avg / total       0.86      0.84      0.82      4712\n",
      "\n"
     ]
    }
   ],
   "source": [
    "# 从sklearn.datasets里导入20类新闻文本数据抓取器。\n",
    "from sklearn.datasets import fetch_20newsgroups\n",
    "# 从互联网上即时下载新闻样本,subset='all'参数代表下载全部近2万条文本存储在变量news中。\n",
    "news = fetch_20newsgroups(subset='all')\n",
    "\n",
    "# 从sklearn.cross_validation导入train_test_split模块用于分割数据集。\n",
    "from sklearn.cross_validation import train_test_split\n",
    "# 对news中的数据data进行分割，25%的文本用作测试集；75%作为训练集。\n",
    "X_train, X_test, y_train, y_test = train_test_split(news.data, news.target, test_size=0.25, random_state=33)\n",
    "\n",
    "# 从sklearn.feature_extraction.text里导入CountVectorizer\n",
    "from sklearn.feature_extraction.text import CountVectorizer\n",
    "# 采用默认的配置对CountVectorizer进行初始化（默认配置不去除英文停用词），并且赋值给变量count_vec。\n",
    "count_vec = CountVectorizer()\n",
    "\n",
    "# 只使用词频统计的方式将原始训练和测试文本转化为特征向量。\n",
    "X_count_train = count_vec.fit_transform(X_train)\n",
    "X_count_test = count_vec.transform(X_test)\n",
    "\n",
    "# 从sklearn.naive_bayes里导入朴素贝叶斯分类器。\n",
    "from sklearn.naive_bayes import MultinomialNB\n",
    "# 使用默认的配置对分类器进行初始化。\n",
    "mnb_count = MultinomialNB()\n",
    "# 使用朴素贝叶斯分类器，对CountVectorizer（不去除停用词）后的训练样本进行参数学习。\n",
    "mnb_count.fit(X_count_train, y_train)\n",
    "\n",
    "# 输出模型准确性结果。\n",
    "print 'The accuracy of classifying 20newsgroups using Naive Bayes (CountVectorizer without filtering stopwords):', mnb_count.score(X_count_test, y_test)\n",
    "# 将分类预测的结果存储在变量y_count_predict中。\n",
    "y_count_predict = mnb_count.predict(X_count_test)\n",
    "# 从sklearn.metrics 导入 classification_report。\n",
    "from sklearn.metrics import classification_report\n",
    "# 输出更加详细的其他评价分类性能的指标。\n",
    "print classification_report(y_test, y_count_predict, target_names = news.target_names)\n"
   ]
  },
  {
   "cell_type": "code",
   "execution_count": 3,
   "metadata": {
    "collapsed": false
   },
   "outputs": [
    {
     "name": "stdout",
     "output_type": "stream",
     "text": [
      "The accuracy of classifying 20newsgroups with Naive Bayes (TfidfVectorizer without filtering stopwords): 0.846349745331\n",
      "                          precision    recall  f1-score   support\n",
      "\n",
      "             alt.atheism       0.84      0.67      0.75       201\n",
      "           comp.graphics       0.85      0.74      0.79       250\n",
      " comp.os.ms-windows.misc       0.82      0.85      0.83       248\n",
      "comp.sys.ibm.pc.hardware       0.76      0.88      0.82       240\n",
      "   comp.sys.mac.hardware       0.94      0.84      0.89       242\n",
      "          comp.windows.x       0.96      0.84      0.89       263\n",
      "            misc.forsale       0.93      0.69      0.79       257\n",
      "               rec.autos       0.84      0.92      0.88       238\n",
      "         rec.motorcycles       0.98      0.92      0.95       276\n",
      "      rec.sport.baseball       0.96      0.91      0.94       251\n",
      "        rec.sport.hockey       0.88      0.99      0.93       233\n",
      "               sci.crypt       0.73      0.98      0.83       238\n",
      "         sci.electronics       0.91      0.83      0.87       249\n",
      "                 sci.med       0.97      0.92      0.95       245\n",
      "               sci.space       0.89      0.96      0.93       221\n",
      "  soc.religion.christian       0.51      0.97      0.67       232\n",
      "      talk.politics.guns       0.83      0.96      0.89       251\n",
      "   talk.politics.mideast       0.92      0.97      0.95       231\n",
      "      talk.politics.misc       0.98      0.62      0.76       188\n",
      "      talk.religion.misc       0.93      0.16      0.28       158\n",
      "\n",
      "             avg / total       0.87      0.85      0.84      4712\n",
      "\n"
     ]
    }
   ],
   "source": [
    "# 从sklearn.feature_extraction.text里分别导入TfidfVectorizer。\n",
    "from sklearn.feature_extraction.text import TfidfVectorizer\n",
    "# 采用默认的配置对TfidfVectorizer进行初始化（默认配置不去除英文停用词），并且赋值给变量tfidf_vec。\n",
    "tfidf_vec = TfidfVectorizer()\n",
    "\n",
    "# 使用tfidf的方式，将原始训练和测试文本转化为特征向量。\n",
    "X_tfidf_train = tfidf_vec.fit_transform(X_train)\n",
    "X_tfidf_test = tfidf_vec.transform(X_test)\n",
    "\n",
    "# 依然使用默认配置的朴素贝叶斯分类器，在相同的训练和测试数据上，对新的特征量化方式进行性能评估。\n",
    "mnb_tfidf = MultinomialNB()\n",
    "mnb_tfidf.fit(X_tfidf_train, y_train)\n",
    "print 'The accuracy of classifying 20newsgroups with Naive Bayes (TfidfVectorizer without filtering stopwords):', mnb_tfidf.score(X_tfidf_test, y_test)\n",
    "y_tfidf_predict = mnb_tfidf.predict(X_tfidf_test)\n",
    "print classification_report(y_test, y_tfidf_predict, target_names = news.target_names)\n"
   ]
  },
  {
   "cell_type": "code",
   "execution_count": 4,
   "metadata": {
    "collapsed": false
   },
   "outputs": [
    {
     "name": "stdout",
     "output_type": "stream",
     "text": [
      "The accuracy of classifying 20newsgroups using Naive Bayes (CountVectorizer by filtering stopwords): 0.863752122241\n",
      "The accuracy of classifying 20newsgroups with Naive Bayes (TfidfVectorizer by filtering stopwords): 0.882640067912\n",
      "                          precision    recall  f1-score   support\n",
      "\n",
      "             alt.atheism       0.85      0.89      0.87       201\n",
      "           comp.graphics       0.62      0.88      0.73       250\n",
      " comp.os.ms-windows.misc       0.93      0.22      0.36       248\n",
      "comp.sys.ibm.pc.hardware       0.62      0.88      0.73       240\n",
      "   comp.sys.mac.hardware       0.93      0.85      0.89       242\n",
      "          comp.windows.x       0.82      0.85      0.84       263\n",
      "            misc.forsale       0.90      0.79      0.84       257\n",
      "               rec.autos       0.91      0.91      0.91       238\n",
      "         rec.motorcycles       0.98      0.94      0.96       276\n",
      "      rec.sport.baseball       0.98      0.92      0.95       251\n",
      "        rec.sport.hockey       0.92      0.99      0.95       233\n",
      "               sci.crypt       0.91      0.97      0.93       238\n",
      "         sci.electronics       0.87      0.89      0.88       249\n",
      "                 sci.med       0.94      0.95      0.95       245\n",
      "               sci.space       0.91      0.96      0.93       221\n",
      "  soc.religion.christian       0.87      0.94      0.90       232\n",
      "      talk.politics.guns       0.89      0.96      0.93       251\n",
      "   talk.politics.mideast       0.95      0.98      0.97       231\n",
      "      talk.politics.misc       0.84      0.90      0.87       188\n",
      "      talk.religion.misc       0.91      0.53      0.67       158\n",
      "\n",
      "             avg / total       0.88      0.86      0.85      4712\n",
      "\n",
      "                          precision    recall  f1-score   support\n",
      "\n",
      "             alt.atheism       0.86      0.81      0.83       201\n",
      "           comp.graphics       0.85      0.81      0.83       250\n",
      " comp.os.ms-windows.misc       0.84      0.87      0.86       248\n",
      "comp.sys.ibm.pc.hardware       0.78      0.88      0.83       240\n",
      "   comp.sys.mac.hardware       0.92      0.90      0.91       242\n",
      "          comp.windows.x       0.95      0.88      0.91       263\n",
      "            misc.forsale       0.90      0.80      0.85       257\n",
      "               rec.autos       0.89      0.92      0.90       238\n",
      "         rec.motorcycles       0.98      0.94      0.96       276\n",
      "      rec.sport.baseball       0.97      0.93      0.95       251\n",
      "        rec.sport.hockey       0.88      0.99      0.93       233\n",
      "               sci.crypt       0.85      0.98      0.91       238\n",
      "         sci.electronics       0.93      0.86      0.89       249\n",
      "                 sci.med       0.96      0.93      0.95       245\n",
      "               sci.space       0.90      0.97      0.93       221\n",
      "  soc.religion.christian       0.70      0.96      0.81       232\n",
      "      talk.politics.guns       0.84      0.98      0.90       251\n",
      "   talk.politics.mideast       0.92      0.99      0.95       231\n",
      "      talk.politics.misc       0.97      0.74      0.84       188\n",
      "      talk.religion.misc       0.96      0.29      0.45       158\n",
      "\n",
      "             avg / total       0.89      0.88      0.88      4712\n",
      "\n"
     ]
    }
   ],
   "source": [
    "# 继续沿用代码56与代码57中导入的工具包（在同一份源代码中，或者不关闭解释器环境），分别使用停用词过滤配置初始化CountVectorizer与TfidfVectorizer。\n",
    "count_filter_vec, tfidf_filter_vec = CountVectorizer(analyzer='word', stop_words='english'), TfidfVectorizer(analyzer='word', stop_words='english')\n",
    "\n",
    "# 使用带有停用词过滤的CountVectorizer对训练和测试文本分别进行量化处理。\n",
    "X_count_filter_train = count_filter_vec.fit_transform(X_train)\n",
    "X_count_filter_test = count_filter_vec.transform(X_test)\n",
    "\n",
    "# 使用带有停用词过滤的TfidfVectorizer对训练和测试文本分别进行量化处理。\n",
    "X_tfidf_filter_train = tfidf_filter_vec.fit_transform(X_train)\n",
    "X_tfidf_filter_test = tfidf_filter_vec.transform(X_test)\n",
    "\n",
    "# 初始化默认配置的朴素贝叶斯分类器，并对CountVectorizer后的数据进行预测与准确性评估。\n",
    "mnb_count_filter = MultinomialNB()\n",
    "mnb_count_filter.fit(X_count_filter_train, y_train)\n",
    "print 'The accuracy of classifying 20newsgroups using Naive Bayes (CountVectorizer by filtering stopwords):', mnb_count_filter.score(X_count_filter_test, y_test)\n",
    "y_count_filter_predict = mnb_count_filter.predict(X_count_filter_test)\n",
    "\n",
    "# 初始化另一个默认配置的朴素贝叶斯分类器，并对TfidfVectorizer后的数据进行预测与准确性评估。\n",
    "mnb_tfidf_filter = MultinomialNB()\n",
    "mnb_tfidf_filter.fit(X_tfidf_filter_train, y_train)\n",
    "print 'The accuracy of classifying 20newsgroups with Naive Bayes (TfidfVectorizer by filtering stopwords):', mnb_tfidf_filter.score(X_tfidf_filter_test, y_test)\n",
    "y_tfidf_filter_predict = mnb_tfidf_filter.predict(X_tfidf_filter_test)\n",
    "\n",
    "# 对上述两个模型进行更加详细的性能评估。\n",
    "from sklearn.metrics import classification_report\n",
    "print classification_report(y_test, y_count_filter_predict, target_names = news.target_names)\n",
    "print classification_report(y_test, y_tfidf_filter_predict, target_names = news.target_names)\n"
   ]
  },
  {
   "cell_type": "code",
   "execution_count": null,
   "metadata": {
    "collapsed": true
   },
   "outputs": [],
   "source": []
  }
 ],
 "metadata": {
  "kernelspec": {
   "display_name": "Python 2",
   "language": "python",
   "name": "python2"
  },
  "language_info": {
   "codemirror_mode": {
    "name": "ipython",
    "version": 2
   },
   "file_extension": ".py",
   "mimetype": "text/x-python",
   "name": "python",
   "nbconvert_exporter": "python",
   "pygments_lexer": "ipython2",
   "version": "2.7.11"
  }
 },
 "nbformat": 4,
 "nbformat_minor": 0
}
